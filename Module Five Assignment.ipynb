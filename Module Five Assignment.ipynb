{
 "cells": [
  {
   "cell_type": "code",
   "execution_count": 2,
   "metadata": {
    "scrolled": true
   },
   "outputs": [
    {
     "name": "stdout",
     "output_type": "stream",
     "text": [
      "Dash app running on http://127.0.0.1:26833/\n"
     ]
    }
   ],
   "source": [
    "# DASH Framework for Jupyter\n",
    "from jupyter_dash import JupyterDash\n",
    "from dash import dcc\n",
    "from dash import html\n",
    "from dash.dependencies import Input, Output\n",
    "\n",
    "# URL Lib to make sure that our input is 'sane'\n",
    "import urllib.parse\n",
    "\n",
    "# Import for your CRUD module\n",
    "from animal_shelter import AnimalShelter\n",
    "\n",
    "# Build App\n",
    "app = JupyterDash(__name__)\n",
    "app.layout = html.Div([\n",
    "    # This element generates an HTML Heading with your name\n",
    "    html.H1(\"Module 5 Assignment - Cooper David\"),\n",
    "    # This Input statement sets up an Input field for the username.\n",
    "    dcc.Input(\n",
    "        id=\"input_user\",\n",
    "        type=\"text\",\n",
    "        placeholder=\"input type {}\".format(\"text\")),\n",
    "    # This Input statement sets up an Input field for the password.\n",
    "    dcc.Input(\n",
    "        id=\"input_passwd\",\n",
    "        type=\"password\",\n",
    "        placeholder=\"input type {}\".format(\"password\")),\n",
    "    # Create a button labeled 'Submit'.\n",
    "    html.Button('Submit', id='submit-val', n_clicks=0),\n",
    "    # Generate a horizontal line separating our input from our output element\n",
    "    html.Hr(),\n",
    "    # This sets up the output element for the dashboard.\n",
    "    html.Div(id=\"query-out\", style={'whiteSpace': 'pre-line'}),\n",
    "    # Unique identifier code\n",
    "    html.Div(id=\"unique-id\", style={'display': 'none'})  # Hidden div for unique identifier\n",
    "])  # Make sure to close the list with a bracket\n",
    "\n",
    "# Define callback to update output-block\n",
    "@app.callback(\n",
    "    Output('query-out', 'children'),\n",
    "    [Input('input_user', 'value'),\n",
    "     Input('input_passwd', 'value'),\n",
    "     Input('submit-val', 'n_clicks')]\n",
    ")\n",
    "def update_figure(inputUser, inputPass, n_clicks):\n",
    "    # Trigger to make sure the callback only connects after the button is pressed\n",
    "    if n_clicks > 0:\n",
    "        ###########################\n",
    "        # Data Manipulation / Model\n",
    "        # use CRUD module to access MongoDB\n",
    "        ##########################\n",
    "        animals = AnimalShelter()\n",
    "        \n",
    "        # Use the URLLIB to setup the username and password\n",
    "        username = urllib.parse.quote_plus(inputUser)\n",
    "        password = urllib.parse.quote_plus(inputPass)\n",
    "\n",
    "        # Perform a read operation\n",
    "        query_results = animals.read({\"animal_type\": \"Dog\"})\n",
    "\n",
    "        # Format results for display\n",
    "        results_display = \"\\n\".join([str(animal) for animal in query_results])\n",
    "        \n",
    "        return results_display or \"No results found\"\n",
    "\n",
    "# Run app and display result inline in the notebook\n",
    "app.run_server()\n",
    "\n"
   ]
  },
  {
   "cell_type": "code",
   "execution_count": null,
   "metadata": {},
   "outputs": [],
   "source": []
  }
 ],
 "metadata": {
  "kernelspec": {
   "display_name": "Python 3 (ipykernel)",
   "language": "python",
   "name": "python3"
  },
  "language_info": {
   "codemirror_mode": {
    "name": "ipython",
    "version": 3
   },
   "file_extension": ".py",
   "mimetype": "text/x-python",
   "name": "python",
   "nbconvert_exporter": "python",
   "pygments_lexer": "ipython3",
   "version": "3.9.12"
  }
 },
 "nbformat": 4,
 "nbformat_minor": 4
}
